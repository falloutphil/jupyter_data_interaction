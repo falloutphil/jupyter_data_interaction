{
 "cells": [
  {
   "cell_type": "code",
   "execution_count": 1,
   "id": "62dee76d-59e0-4479-a733-272d668058be",
   "metadata": {},
   "outputs": [],
   "source": [
    "import random\n",
    "from typing import Dict, Type\n",
    "\n",
    "import numpy as np\n",
    "import pandas as pd\n",
    "\n",
    "random.seed(0)\n",
    "np.random.seed(0)\n",
    "\n",
    "def coerce_types(df: pd.DataFrame, type_dict: Dict[str, Type]) -> pd.DataFrame:\n",
    "    df = df.copy()\n",
    "    for col_name, stored_type in type_dict.items():\n",
    "        df[col_name] = df[col_name].apply(lambda x : stored_type(x))\n",
    "    return df"
   ]
  },
  {
   "cell_type": "code",
   "execution_count": 2,
   "id": "88b38558-25f9-4430-90f4-7cd1714fc745",
   "metadata": {},
   "outputs": [],
   "source": [
    "names = [\"Dog_\" + str(i) for i in range(1, 31)]\n",
    "ages = np.random.randint(1, 15, 30)\n",
    "sexes = random.choices(['Male', 'Female'], k=30)\n",
    "breeds = random.choices(['Bulldog', 'Labrador', 'Chihuahua', 'Beagle'], k=30)\n",
    "colors = random.choices(['Black', 'White', 'Brown', 'Grey'], k=30)\n",
    "toys = random.choices(['Ball', 'Frisbee', 'Rope', 'Bone'], k=30)\n",
    "\n",
    "df = pd.DataFrame(list(zip(names, ages, sexes, breeds, colors, toys)), \n",
    "               columns =['Name', 'Age', 'Sex', 'Breed', 'Color', 'Favourite Toy'])\n",
    "\n",
    "\n"
   ]
  },
  {
   "cell_type": "code",
   "execution_count": 12,
   "id": "3a0be2ce-5d70-4099-9ddb-398f1cd9f381",
   "metadata": {},
   "outputs": [
    {
     "data": {
      "application/vnd.jupyter.widget-view+json": {
       "model_id": "267c1735d17e495f82f83f18c558f192",
       "version_major": 2,
       "version_minor": 0
      },
      "text/plain": [
       "Grid(columns_fit='size_to_fit', compress_data=True, export_mode='auto', height='350px', menu={'buttons': [{'na…"
      ]
     },
     "execution_count": 12,
     "metadata": {},
     "output_type": "execute_result"
    }
   ],
   "source": [
    "from ipyaggrid import Grid\n",
    "from ipywidgets import widgets, Layout\n",
    "\n",
    "# Setting up the grid\n",
    "grid_options = {\n",
    "    'columnDefs' : [{'field': c} for c in df.columns],\n",
    "    'enableSorting': True, \n",
    "    'enableFilter': True,\n",
    "}\n",
    "\n",
    "cached_types = {col_name: type(df[col_name].iloc[0]) for col_name in df.columns}\n",
    "\n",
    "g = Grid(grid_data=df,\n",
    "         grid_options=grid_options,\n",
    "         show_toggle_edit=True,\n",
    "         theme='ag-theme-balham',\n",
    "         quick_filter=True,\n",
    "         sync_on_edit=True,\n",
    "         export_excel=True,\n",
    "         export_mode='auto',\n",
    "         index=True,\n",
    "         keep_multiindex=False)\n",
    "\n",
    "g\n"
   ]
  },
  {
   "cell_type": "code",
   "execution_count": 4,
   "id": "304f8c44-4237-49f1-b311-8c0b987b48ce",
   "metadata": {},
   "outputs": [],
   "source": [
    "#df_updated = g.grid_data_out['grid']\n",
    "#df_updated = coerce_types(df_updated, cached_types)\n",
    "\n",
    "#df_updated\n"
   ]
  },
  {
   "cell_type": "code",
   "execution_count": 5,
   "id": "3fabac2c-f367-4199-8520-34772770bce1",
   "metadata": {},
   "outputs": [
    {
     "data": {
      "application/vnd.jupyter.widget-view+json": {
       "model_id": "2e97b82cd3494824ad25700d569b2894",
       "version_major": 2,
       "version_minor": 0
      },
      "text/plain": [
       "VBox(children=(Button(description='Update DataFrame', style=ButtonStyle()), Output()))"
      ]
     },
     "metadata": {},
     "output_type": "display_data"
    }
   ],
   "source": [
    "import matplotlib.pyplot as plt\n",
    "import ipywidgets as widgets\n",
    "\n",
    "update_button = widgets.Button(description=\"Draw\")\n",
    "\n",
    "def plot_data(b):\n",
    "    df_updated = g.grid_data_out['grid']\n",
    "    df_updated = coerce_types(df_updated, cached_types)\n",
    "    # Bar chart for age distribution\n",
    "    plt.figure(figsize=(10, 5))\n",
    "    plt.hist(df_updated['Age'], bins=range(1, 16), align='left', rwidth=0.8, color='blue', alpha=0.7)\n",
    "    plt.title('Age Distribution')\n",
    "    plt.xlabel('Age')\n",
    "    plt.ylabel('Number of Dogs')\n",
    "    plt.xticks(range(1, 16))\n",
    "    plt.grid(axis='y')\n",
    "    plt.show()\n",
    "\n",
    "    # Pie chart for favourite toys\n",
    "    toy_counts = df_updated['Favourite Toy'].value_counts()\n",
    "    plt.figure(figsize=(6, 6))\n",
    "    plt.pie(toy_counts, labels=toy_counts.index, autopct='%1.1f%%', startangle=90)\n",
    "    plt.title('Favourite Toys')\n",
    "    plt.show()\n",
    "\n",
    "def on_button_clicked(b):\n",
    "    with output:\n",
    "        output.clear_output()\n",
    "        plot_data(b)\n",
    "\n",
    "output = widgets.Output()\n",
    "\n",
    "update_button.on_click(on_button_clicked)\n",
    "\n",
    "ui = widgets.VBox([update_button, output])\n",
    "display(ui)\n"
   ]
  },
  {
   "cell_type": "code",
   "execution_count": null,
   "id": "465cdbd8-427d-45b3-8697-616d8002c8f0",
   "metadata": {},
   "outputs": [],
   "source": []
  }
 ],
 "metadata": {
  "kernelspec": {
   "display_name": "Python 3 (ipykernel)",
   "language": "python",
   "name": "python3"
  },
  "language_info": {
   "codemirror_mode": {
    "name": "ipython",
    "version": 3
   },
   "file_extension": ".py",
   "mimetype": "text/x-python",
   "name": "python",
   "nbconvert_exporter": "python",
   "pygments_lexer": "ipython3",
   "version": "3.10.12"
  }
 },
 "nbformat": 4,
 "nbformat_minor": 5
}
